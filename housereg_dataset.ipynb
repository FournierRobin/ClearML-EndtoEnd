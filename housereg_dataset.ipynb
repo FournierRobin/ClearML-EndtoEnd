{
 "cells": [
  {
   "cell_type": "code",
   "execution_count": 91,
   "metadata": {},
   "outputs": [
    {
     "name": "stdout",
     "output_type": "stream",
     "text": [
      "ClearML results page: https://app.clear.ml/projects/cbc123648a214e4ebd3674f01b1e3d87/experiments/b9eb9fecd3524be1b96d602d9052b1e3/output/log\n",
      "ClearML dataset page: https://app.clear.ml/datasets/simple/cbc123648a214e4ebd3674f01b1e3d87/experiments/b9eb9fecd3524be1b96d602d9052b1e3\n"
     ]
    }
   ],
   "source": [
    "from clearml import Dataset\n",
    "\n",
    "ds = Dataset.create(\n",
    "    dataset_name='House Price Dataset',\n",
    "    dataset_project='House Reg Datasets'\n",
    ")"
   ]
  },
  {
   "cell_type": "code",
   "execution_count": 92,
   "metadata": {},
   "outputs": [
    {
     "name": "stdout",
     "output_type": "stream",
     "text": [
      "Generating SHA2 hash for 4 files\n",
      "Hash generation completed\n"
     ]
    },
    {
     "data": {
      "text/plain": [
       "4"
      ]
     },
     "execution_count": 92,
     "metadata": {},
     "output_type": "execute_result"
    }
   ],
   "source": [
    "ds.add_files(path='./data')"
   ]
  },
  {
   "cell_type": "code",
   "execution_count": 93,
   "metadata": {},
   "outputs": [],
   "source": [
    "import pandas as pd\n",
    "import numpy as np\n",
    "import os\n",
    "\n",
    "dataset_names = sorted(os.listdir(\"./data\"))\n",
    "row_counts = []\n",
    "for dataset_name in dataset_names:\n",
    "    dataset_path = os.path.join(\"./data\", dataset_name)\n",
    "    df = pd.read_csv(dataset_path)\n",
    "    row_count = df.shape[0]\n",
    "    row_counts.append(row_count)\n",
    "row_counts = np.array(row_counts)\n",
    "row_counts = row_counts.reshape(4, 1)\n",
    "\n",
    "ds.get_logger().report_histogram(\n",
    "    title='Dataset Statistics',\n",
    "    series='Train & Test Datasets count',\n",
    "    values=row_counts,\n",
    "    labels=dataset_names,\n",
    "    xaxis='Dataset Name',\n",
    "    yaxis='Number of Rows'\n",
    ")"
   ]
  },
  {
   "cell_type": "code",
   "execution_count": 95,
   "metadata": {},
   "outputs": [
    {
     "name": "stdout",
     "output_type": "stream",
     "text": [
      "File compression and upload completed: total size 0 B, 0 chunk(s) stored (average size 0 B)\n"
     ]
    },
    {
     "data": {
      "text/plain": [
       "True"
      ]
     },
     "execution_count": 95,
     "metadata": {},
     "output_type": "execute_result"
    }
   ],
   "source": [
    "ds.upload()\n",
    "ds.finalize()"
   ]
  },
  {
   "attachments": {},
   "cell_type": "markdown",
   "metadata": {},
   "source": [
    "Get and DL dataset from clearML"
   ]
  },
  {
   "cell_type": "code",
   "execution_count": 39,
   "metadata": {},
   "outputs": [],
   "source": [
    "get_ds = Dataset.get(dataset_id='9c0adedbd1f944beaeef2b92418d9c05')"
   ]
  },
  {
   "cell_type": "code",
   "execution_count": 45,
   "metadata": {},
   "outputs": [
    {
     "data": {
      "text/plain": [
       "['cleaned_test.csv', 'cleaned_train.csv', 'test.csv', 'train.csv']"
      ]
     },
     "execution_count": 45,
     "metadata": {},
     "output_type": "execute_result"
    }
   ],
   "source": [
    "get_ds.list_files()"
   ]
  },
  {
   "cell_type": "code",
   "execution_count": 48,
   "metadata": {},
   "outputs": [
    {
     "data": {
      "text/plain": [
       "'/Users/robinfournier/Desktop/YNOV/IACloud/clearML/data/fromclearml'"
      ]
     },
     "execution_count": 48,
     "metadata": {},
     "output_type": "execute_result"
    }
   ],
   "source": [
    "ds_path = ds.get_local_copy()\n",
    "ds.get_mutable_local_copy(\n",
    "    target_folder=\"datafromclearml\"\n",
    ")"
   ]
  },
  {
   "attachments": {},
   "cell_type": "markdown",
   "metadata": {},
   "source": [
    "New dataset version with changes"
   ]
  },
  {
   "cell_type": "code",
   "execution_count": 51,
   "metadata": {},
   "outputs": [
    {
     "name": "stdout",
     "output_type": "stream",
     "text": [
      "ClearML results page: https://app.clear.ml/projects/38e410a494a345f8b44909082511b5bb/experiments/c52fb2c2bb16490d84386285a2cfdd84/output/log\n",
      "ClearML dataset page: https://app.clear.ml/datasets/simple/38e410a494a345f8b44909082511b5bb/experiments/c52fb2c2bb16490d84386285a2cfdd84\n"
     ]
    }
   ],
   "source": [
    "ds = Dataset.create(\n",
    "    dataset_name='House Price Dataset 2',\n",
    "    dataset_project='House Reg Datasets',\n",
    "    parent_datasets=['9c0adedbd1f944beaeef2b92418d9c05']\n",
    ")"
   ]
  },
  {
   "cell_type": "code",
   "execution_count": 52,
   "metadata": {},
   "outputs": [
    {
     "name": "stdout",
     "output_type": "stream",
     "text": [
      "Generating SHA2 hash for 4 files\n",
      "Hash generation completed\n"
     ]
    },
    {
     "data": {
      "text/plain": [
       "(0, 0, 1)"
      ]
     },
     "execution_count": 52,
     "metadata": {},
     "output_type": "execute_result"
    }
   ],
   "source": [
    "ds.sync_folder(local_path='./data')"
   ]
  },
  {
   "cell_type": "code",
   "execution_count": 53,
   "metadata": {},
   "outputs": [
    {
     "name": "stdout",
     "output_type": "stream",
     "text": [
      "Pending uploads, starting dataset upload to https://files.clear.ml\n",
      "Uploading dataset changes (1 files compressed to 89.42 KiB) to https://files.clear.ml\n",
      "File compression and upload completed: total size 89.42 KiB, 1 chunk(s) stored (average size 89.42 KiB)\n"
     ]
    },
    {
     "data": {
      "text/plain": [
       "True"
      ]
     },
     "execution_count": 53,
     "metadata": {},
     "output_type": "execute_result"
    }
   ],
   "source": [
    "ds.finalize(auto_upload=True)"
   ]
  }
 ],
 "metadata": {
  "kernelspec": {
   "display_name": "clearmlenv",
   "language": "python",
   "name": "python3"
  },
  "language_info": {
   "codemirror_mode": {
    "name": "ipython",
    "version": 3
   },
   "file_extension": ".py",
   "mimetype": "text/x-python",
   "name": "python",
   "nbconvert_exporter": "python",
   "pygments_lexer": "ipython3",
   "version": "3.10.10"
  },
  "orig_nbformat": 4
 },
 "nbformat": 4,
 "nbformat_minor": 2
}
